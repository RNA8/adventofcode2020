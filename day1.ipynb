{
 "cells": [
  {
   "cell_type": "code",
   "execution_count": 1,
   "id": "80ac805c",
   "metadata": {},
   "outputs": [],
   "source": [
    "import os\n",
    "import aocd\n",
    "from aocd.models import Puzzle\n",
    "from aocd import submit"
   ]
  },
  {
   "cell_type": "code",
   "execution_count": 2,
   "id": "ca698f8a",
   "metadata": {},
   "outputs": [],
   "source": [
    "current_day = 1\n",
    "current_year = 2020"
   ]
  },
  {
   "cell_type": "code",
   "execution_count": 3,
   "id": "ac53ff4c",
   "metadata": {},
   "outputs": [],
   "source": [
    "# input_file = f\"input/input_day{current_day}_{current_year}.txt\"\n",
    "# os.system(f'aocd {current_day} {current_year} > {input_file}')\n",
    "\n",
    "# with open(input_file,'r') as fid:\n",
    "#     data = fid.read().splitlines()\n",
    "# data"
   ]
  },
  {
   "cell_type": "code",
   "execution_count": 4,
   "id": "464e27b4",
   "metadata": {},
   "outputs": [],
   "source": [
    "puzzle = Puzzle(year=current_year, day=current_day)"
   ]
  },
  {
   "cell_type": "code",
   "execution_count": 5,
   "id": "fd7c96e5",
   "metadata": {},
   "outputs": [
    {
     "data": {
      "text/plain": [
       "<Puzzle(2020, 1) at 0x7fb46bb915e0 - Report Repair>"
      ]
     },
     "execution_count": 5,
     "metadata": {},
     "output_type": "execute_result"
    }
   ],
   "source": [
    "puzzle"
   ]
  },
  {
   "cell_type": "code",
   "execution_count": 6,
   "id": "556ad1df",
   "metadata": {},
   "outputs": [],
   "source": [
    "import numpy as np"
   ]
  },
  {
   "cell_type": "markdown",
   "id": "a4447e93",
   "metadata": {},
   "source": [
    "# Part 1"
   ]
  },
  {
   "cell_type": "code",
   "execution_count": 10,
   "id": "3e83b4cc",
   "metadata": {},
   "outputs": [],
   "source": [
    "data = np.int32(puzzle.input_data.splitlines())"
   ]
  },
  {
   "cell_type": "code",
   "execution_count": 11,
   "id": "3644a81c",
   "metadata": {},
   "outputs": [],
   "source": [
    "target = 2020\n",
    "seen = set()\n",
    "result = None\n",
    "for datum in data:\n",
    "    if datum in seen:\n",
    "        result = datum*(target - datum)\n",
    "        break\n",
    "    seen.add(target - datum)"
   ]
  },
  {
   "cell_type": "code",
   "execution_count": 12,
   "id": "3fcf8fbf",
   "metadata": {},
   "outputs": [
    {
     "data": {
      "text/plain": [
       "55776"
      ]
     },
     "execution_count": 12,
     "metadata": {},
     "output_type": "execute_result"
    }
   ],
   "source": [
    "result"
   ]
  },
  {
   "cell_type": "code",
   "execution_count": 13,
   "id": "eb7cbe1c",
   "metadata": {},
   "outputs": [
    {
     "name": "stdout",
     "output_type": "stream",
     "text": [
      "\u001b[32mThat's the right answer!  You are one gold star closer to saving your vacation. [Continue to Part Two]\u001b[0m\n"
     ]
    }
   ],
   "source": [
    "puzzle.answer_a = 55776"
   ]
  },
  {
   "cell_type": "markdown",
   "id": "2628ea09",
   "metadata": {},
   "source": [
    "# Part 2"
   ]
  },
  {
   "cell_type": "code",
   "execution_count": 15,
   "id": "525b0055",
   "metadata": {},
   "outputs": [],
   "source": [
    "seen = {target - datum for datum in data}"
   ]
  },
  {
   "cell_type": "code",
   "execution_count": 18,
   "id": "f6b44c4a",
   "metadata": {},
   "outputs": [],
   "source": [
    "from itertools import combinations"
   ]
  },
  {
   "cell_type": "code",
   "execution_count": 22,
   "id": "819f7644",
   "metadata": {},
   "outputs": [
    {
     "name": "stdout",
     "output_type": "stream",
     "text": [
      "223162626\n"
     ]
    }
   ],
   "source": [
    "result = None\n",
    "for i,j in combinations(data,2):\n",
    "    if i+j in seen:\n",
    "        result = i*j*(target-i-j)\n",
    "        print(result)\n",
    "        break"
   ]
  },
  {
   "cell_type": "code",
   "execution_count": 23,
   "id": "1b242738",
   "metadata": {},
   "outputs": [
    {
     "name": "stdout",
     "output_type": "stream",
     "text": [
      "\u001b[32mThat's the right answer!  You are one gold star closer to saving your vacation.You have completed Day 1! You can [Shareon\n",
      "  Twitter\n",
      "Mastodon] this victory or [Return to Your Advent Calendar].\u001b[0m\n"
     ]
    }
   ],
   "source": [
    "puzzle.answer_b = 223162626"
   ]
  },
  {
   "cell_type": "code",
   "execution_count": null,
   "id": "172fabd9",
   "metadata": {},
   "outputs": [],
   "source": []
  }
 ],
 "metadata": {
  "kernelspec": {
   "display_name": "Python 3",
   "language": "python",
   "name": "python3"
  },
  "language_info": {
   "codemirror_mode": {
    "name": "ipython",
    "version": 3
   },
   "file_extension": ".py",
   "mimetype": "text/x-python",
   "name": "python",
   "nbconvert_exporter": "python",
   "pygments_lexer": "ipython3",
   "version": "3.8.8"
  }
 },
 "nbformat": 4,
 "nbformat_minor": 5
}
