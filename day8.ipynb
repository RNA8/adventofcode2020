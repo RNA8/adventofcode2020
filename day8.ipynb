{
 "cells": [
  {
   "cell_type": "code",
   "execution_count": 7,
   "id": "80ac805c",
   "metadata": {},
   "outputs": [],
   "source": [
    "import os\n",
    "import aocd\n",
    "from aocd.models import Puzzle\n",
    "from aocd import submit"
   ]
  },
  {
   "cell_type": "code",
   "execution_count": 8,
   "id": "ca698f8a",
   "metadata": {},
   "outputs": [
    {
     "data": {
      "text/plain": [
       "<Puzzle(2020, 8) at 0x7f9085c41340 - Handheld Halting>"
      ]
     },
     "execution_count": 8,
     "metadata": {},
     "output_type": "execute_result"
    }
   ],
   "source": [
    "current_day = 8\n",
    "current_year = 2020\n",
    "\n",
    "puzzle = Puzzle(year=current_year, day=current_day)\n",
    "\n",
    "puzzle"
   ]
  },
  {
   "cell_type": "markdown",
   "id": "a4447e93",
   "metadata": {},
   "source": [
    "# Part 1"
   ]
  },
  {
   "cell_type": "code",
   "execution_count": 9,
   "id": "ddc49cf0",
   "metadata": {},
   "outputs": [
    {
     "name": "stdout",
     "output_type": "stream",
     "text": [
      "2025\n"
     ]
    }
   ],
   "source": [
    "instructions = puzzle.input_data.splitlines()\n",
    "accum = 0\n",
    "instr_ptr = 0\n",
    "seen = set()\n",
    "while instr_ptr not in seen and instr_ptr < len(instructions):\n",
    "    seen.add(instr_ptr)\n",
    "    cmd = instructions[instr_ptr]\n",
    "    if cmd.startswith('acc'):\n",
    "        accum += int(cmd.split()[-1])\n",
    "        instr_ptr += 1\n",
    "    elif cmd.startswith('nop'):\n",
    "        instr_ptr += 1\n",
    "        continue\n",
    "    elif cmd.startswith('jmp'):\n",
    "        instr_ptr += int(cmd.split()[-1])\n",
    "print(accum)"
   ]
  },
  {
   "cell_type": "code",
   "execution_count": 6,
   "id": "eb7cbe1c",
   "metadata": {},
   "outputs": [
    {
     "name": "stdout",
     "output_type": "stream",
     "text": [
      "\u001b[32mThat's the right answer!  You are one gold star closer to saving your vacation. [Continue to Part Two]\u001b[0m\n"
     ]
    }
   ],
   "source": [
    "puzzle.answer_a = accum"
   ]
  },
  {
   "cell_type": "markdown",
   "id": "2628ea09",
   "metadata": {},
   "source": [
    "# Part 2"
   ]
  },
  {
   "cell_type": "code",
   "execution_count": 14,
   "id": "9bd02da3",
   "metadata": {},
   "outputs": [],
   "source": [
    "def does_terminate(instructions):\n",
    "    accum = 0\n",
    "    instr_ptr = 0\n",
    "    seen = set()\n",
    "    while instr_ptr not in seen and instr_ptr < len(instructions):\n",
    "        seen.add(instr_ptr)\n",
    "        cmd = instructions[instr_ptr]\n",
    "        if cmd.startswith('acc'):\n",
    "            accum += int(cmd.split()[-1])\n",
    "            instr_ptr += 1\n",
    "        elif cmd.startswith('nop'):\n",
    "            instr_ptr += 1\n",
    "            continue\n",
    "        elif cmd.startswith('jmp'):\n",
    "            instr_ptr += int(cmd.split()[-1])\n",
    "    if instr_ptr in seen:\n",
    "        print(f\"stuck in infinite loop - accum value = {accum}\")\n",
    "        return False\n",
    "    \n",
    "    print(f\"Terminated - accum value = {accum}\")\n",
    "\n",
    "    return True"
   ]
  },
  {
   "cell_type": "code",
   "execution_count": 20,
   "id": "ce6bdf0e",
   "metadata": {},
   "outputs": [],
   "source": [
    "instructions = puzzle.input_data.splitlines()"
   ]
  },
  {
   "cell_type": "code",
   "execution_count": 21,
   "id": "da9f4313",
   "metadata": {},
   "outputs": [
    {
     "name": "stdout",
     "output_type": "stream",
     "text": [
      "stuck in infinite loop - accum value = 2025\n"
     ]
    },
    {
     "data": {
      "text/plain": [
       "False"
      ]
     },
     "execution_count": 21,
     "metadata": {},
     "output_type": "execute_result"
    }
   ],
   "source": [
    "does_terminate(instructions)"
   ]
  },
  {
   "cell_type": "code",
   "execution_count": 22,
   "id": "63b48214",
   "metadata": {},
   "outputs": [
    {
     "name": "stdout",
     "output_type": "stream",
     "text": [
      "stuck in infinite loop - accum value = 2086\n",
      "stuck in infinite loop - accum value = 2121\n",
      "stuck in infinite loop - accum value = 2025\n",
      "stuck in infinite loop - accum value = 2025\n",
      "stuck in infinite loop - accum value = 2025\n",
      "stuck in infinite loop - accum value = 709\n",
      "stuck in infinite loop - accum value = 2025\n",
      "stuck in infinite loop - accum value = 1973\n",
      "stuck in infinite loop - accum value = 2025\n",
      "stuck in infinite loop - accum value = 736\n",
      "stuck in infinite loop - accum value = 2025\n",
      "stuck in infinite loop - accum value = 2025\n",
      "stuck in infinite loop - accum value = 2025\n",
      "stuck in infinite loop - accum value = 2025\n",
      "stuck in infinite loop - accum value = 2025\n",
      "stuck in infinite loop - accum value = 1339\n",
      "stuck in infinite loop - accum value = 2025\n",
      "stuck in infinite loop - accum value = 2025\n",
      "stuck in infinite loop - accum value = 2025\n",
      "stuck in infinite loop - accum value = 311\n",
      "stuck in infinite loop - accum value = 2025\n",
      "stuck in infinite loop - accum value = 2025\n",
      "stuck in infinite loop - accum value = 2025\n",
      "stuck in infinite loop - accum value = 2025\n",
      "stuck in infinite loop - accum value = 2025\n",
      "stuck in infinite loop - accum value = 2025\n",
      "stuck in infinite loop - accum value = 539\n",
      "stuck in infinite loop - accum value = 2025\n",
      "stuck in infinite loop - accum value = 2025\n",
      "stuck in infinite loop - accum value = 2025\n",
      "stuck in infinite loop - accum value = 1120\n",
      "stuck in infinite loop - accum value = 2025\n",
      "stuck in infinite loop - accum value = 2025\n",
      "stuck in infinite loop - accum value = 2025\n",
      "stuck in infinite loop - accum value = 1990\n",
      "stuck in infinite loop - accum value = 2025\n",
      "stuck in infinite loop - accum value = 2025\n",
      "stuck in infinite loop - accum value = 2025\n",
      "stuck in infinite loop - accum value = 605\n",
      "stuck in infinite loop - accum value = 2025\n",
      "stuck in infinite loop - accum value = 957\n",
      "stuck in infinite loop - accum value = 2025\n",
      "stuck in infinite loop - accum value = 1732\n",
      "stuck in infinite loop - accum value = 2025\n",
      "stuck in infinite loop - accum value = 2025\n",
      "stuck in infinite loop - accum value = 2025\n",
      "stuck in infinite loop - accum value = 2025\n",
      "stuck in infinite loop - accum value = 2025\n",
      "stuck in infinite loop - accum value = 2025\n",
      "stuck in infinite loop - accum value = 2025\n",
      "stuck in infinite loop - accum value = 1312\n",
      "stuck in infinite loop - accum value = 2025\n",
      "stuck in infinite loop - accum value = 1982\n",
      "stuck in infinite loop - accum value = 2025\n",
      "stuck in infinite loop - accum value = 1904\n",
      "stuck in infinite loop - accum value = 2038\n",
      "stuck in infinite loop - accum value = 2025\n",
      "stuck in infinite loop - accum value = 2025\n",
      "stuck in infinite loop - accum value = 2025\n",
      "stuck in infinite loop - accum value = 2025\n",
      "stuck in infinite loop - accum value = 2025\n",
      "stuck in infinite loop - accum value = 2025\n",
      "stuck in infinite loop - accum value = 2025\n",
      "stuck in infinite loop - accum value = 2025\n",
      "stuck in infinite loop - accum value = 2025\n",
      "stuck in infinite loop - accum value = 605\n",
      "stuck in infinite loop - accum value = 2025\n",
      "stuck in infinite loop - accum value = 2025\n",
      "stuck in infinite loop - accum value = 2025\n",
      "stuck in infinite loop - accum value = 2025\n",
      "stuck in infinite loop - accum value = 2025\n",
      "stuck in infinite loop - accum value = 1816\n",
      "stuck in infinite loop - accum value = 2025\n",
      "stuck in infinite loop - accum value = 2025\n",
      "stuck in infinite loop - accum value = 2099\n",
      "stuck in infinite loop - accum value = 2025\n",
      "stuck in infinite loop - accum value = 2025\n",
      "stuck in infinite loop - accum value = 2025\n",
      "stuck in infinite loop - accum value = 2025\n",
      "stuck in infinite loop - accum value = 2025\n",
      "stuck in infinite loop - accum value = 2025\n",
      "stuck in infinite loop - accum value = 1758\n",
      "stuck in infinite loop - accum value = 2025\n",
      "stuck in infinite loop - accum value = 2025\n",
      "stuck in infinite loop - accum value = 2025\n",
      "stuck in infinite loop - accum value = 2025\n",
      "stuck in infinite loop - accum value = 2025\n",
      "stuck in infinite loop - accum value = 2025\n",
      "stuck in infinite loop - accum value = 2025\n",
      "stuck in infinite loop - accum value = 2025\n",
      "stuck in infinite loop - accum value = 1886\n",
      "stuck in infinite loop - accum value = 2025\n",
      "stuck in infinite loop - accum value = 2025\n",
      "stuck in infinite loop - accum value = 2025\n",
      "stuck in infinite loop - accum value = 2025\n",
      "stuck in infinite loop - accum value = 2025\n",
      "stuck in infinite loop - accum value = 2025\n",
      "stuck in infinite loop - accum value = 2025\n",
      "stuck in infinite loop - accum value = 2025\n",
      "stuck in infinite loop - accum value = 2025\n",
      "stuck in infinite loop - accum value = 2025\n",
      "stuck in infinite loop - accum value = 2025\n",
      "stuck in infinite loop - accum value = 1025\n",
      "stuck in infinite loop - accum value = 1316\n",
      "stuck in infinite loop - accum value = 2025\n",
      "stuck in infinite loop - accum value = 1850\n",
      "stuck in infinite loop - accum value = 2025\n",
      "stuck in infinite loop - accum value = 1361\n",
      "stuck in infinite loop - accum value = 2025\n",
      "stuck in infinite loop - accum value = 2025\n",
      "stuck in infinite loop - accum value = 1594\n",
      "stuck in infinite loop - accum value = 2025\n",
      "stuck in infinite loop - accum value = 2025\n",
      "stuck in infinite loop - accum value = 2025\n",
      "stuck in infinite loop - accum value = 2025\n",
      "Terminated - accum value = 2001\n"
     ]
    }
   ],
   "source": [
    "for i,line in enumerate(instructions):\n",
    "    if line.startswith('nop'):\n",
    "        instructions[i] = instructions[i].replace('nop','jmp')\n",
    "        if does_terminate(instructions):\n",
    "            break\n",
    "        instructions[i] = instructions[i].replace('jmp','nop')\n",
    "\n",
    "    elif line.startswith('jmp'):\n",
    "        instructions[i] = instructions[i].replace('jmp','nop')\n",
    "        if does_terminate(instructions):\n",
    "            break\n",
    "        instructions[i] = instructions[i].replace('nop','jmp')\n",
    "\n"
   ]
  },
  {
   "cell_type": "code",
   "execution_count": 23,
   "id": "1b242738",
   "metadata": {},
   "outputs": [
    {
     "name": "stdout",
     "output_type": "stream",
     "text": [
      "\u001b[32mThat's the right answer!  You are one gold star closer to saving your vacation.You have completed Day 8! You can [Shareon\n",
      "  Twitter\n",
      "Mastodon] this victory or [Return to Your Advent Calendar].\u001b[0m\n"
     ]
    }
   ],
   "source": [
    "puzzle.answer_b = 2001"
   ]
  },
  {
   "cell_type": "code",
   "execution_count": null,
   "id": "b5ecc8a1",
   "metadata": {},
   "outputs": [],
   "source": []
  }
 ],
 "metadata": {
  "kernelspec": {
   "display_name": "Python 3 (ipykernel)",
   "language": "python",
   "name": "python3"
  },
  "language_info": {
   "codemirror_mode": {
    "name": "ipython",
    "version": 3
   },
   "file_extension": ".py",
   "mimetype": "text/x-python",
   "name": "python",
   "nbconvert_exporter": "python",
   "pygments_lexer": "ipython3",
   "version": "3.9.7"
  }
 },
 "nbformat": 4,
 "nbformat_minor": 5
}
