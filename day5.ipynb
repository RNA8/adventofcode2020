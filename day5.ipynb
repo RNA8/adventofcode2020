{
 "cells": [
  {
   "cell_type": "code",
   "execution_count": 1,
   "id": "80ac805c",
   "metadata": {},
   "outputs": [],
   "source": [
    "import os\n",
    "import aocd\n",
    "from aocd.models import Puzzle\n",
    "from aocd import submit"
   ]
  },
  {
   "cell_type": "code",
   "execution_count": 2,
   "id": "ca698f8a",
   "metadata": {},
   "outputs": [],
   "source": [
    "current_day = 5\n",
    "current_year = 2020"
   ]
  },
  {
   "cell_type": "code",
   "execution_count": 3,
   "id": "464e27b4",
   "metadata": {},
   "outputs": [],
   "source": [
    "puzzle = Puzzle(year=current_year, day=current_day)"
   ]
  },
  {
   "cell_type": "code",
   "execution_count": 4,
   "id": "fd7c96e5",
   "metadata": {},
   "outputs": [
    {
     "data": {
      "text/plain": [
       "<Puzzle(2020, 5) at 0x7f97ef813430 - Binary Boarding>"
      ]
     },
     "execution_count": 4,
     "metadata": {},
     "output_type": "execute_result"
    }
   ],
   "source": [
    "puzzle"
   ]
  },
  {
   "cell_type": "code",
   "execution_count": 5,
   "id": "556ad1df",
   "metadata": {},
   "outputs": [],
   "source": [
    "import numpy as np"
   ]
  },
  {
   "cell_type": "markdown",
   "id": "a4447e93",
   "metadata": {},
   "source": [
    "# Part 1"
   ]
  },
  {
   "cell_type": "code",
   "execution_count": 13,
   "id": "eedca3a0",
   "metadata": {},
   "outputs": [
    {
     "data": {
      "text/plain": [
       "944"
      ]
     },
     "execution_count": 13,
     "metadata": {},
     "output_type": "execute_result"
    }
   ],
   "source": [
    "# convert to binary\n",
    "# don't need to split row and column and multiply by 8 since col is already 3 LSBs\n",
    "data = puzzle.input_data.replace('B','1').replace('F','0').replace('R','1').replace('L','0').splitlines()\n",
    "result = max(int(datum,2) for datum in data)\n",
    "result"
   ]
  },
  {
   "cell_type": "code",
   "execution_count": 12,
   "id": "eb7cbe1c",
   "metadata": {},
   "outputs": [
    {
     "name": "stdout",
     "output_type": "stream",
     "text": [
      "\u001b[32mThat's the right answer!  You are one gold star closer to saving your vacation. [Continue to Part Two]\u001b[0m\n"
     ]
    }
   ],
   "source": [
    "puzzle.answer_a = result"
   ]
  },
  {
   "cell_type": "markdown",
   "id": "2628ea09",
   "metadata": {},
   "source": [
    "# Part 2"
   ]
  },
  {
   "cell_type": "code",
   "execution_count": 15,
   "id": "9a24e231",
   "metadata": {},
   "outputs": [],
   "source": [
    "seat_ids_set = {int(datum,2) for datum in data}"
   ]
  },
  {
   "cell_type": "code",
   "execution_count": 20,
   "id": "fb7f00e5",
   "metadata": {},
   "outputs": [
    {
     "data": {
      "text/plain": [
       "[554]"
      ]
     },
     "execution_count": 20,
     "metadata": {},
     "output_type": "execute_result"
    }
   ],
   "source": [
    "candidates = [i for i in range(min(seat_ids_set)+1, max(seat_ids_set))\n",
    "              if i not in seat_ids_set and (i-1 in seat_ids_set and i+1 in seat_ids_set)]\n",
    "candidates"
   ]
  },
  {
   "cell_type": "code",
   "execution_count": 21,
   "id": "1b242738",
   "metadata": {},
   "outputs": [
    {
     "name": "stdout",
     "output_type": "stream",
     "text": [
      "\u001b[32mThat's the right answer!  You are one gold star closer to saving your vacation.You have completed Day 5! You can [Shareon\n",
      "  Twitter\n",
      "Mastodon] this victory or [Return to Your Advent Calendar].\u001b[0m\n"
     ]
    }
   ],
   "source": [
    "puzzle.answer_b = candidates[0]"
   ]
  },
  {
   "cell_type": "code",
   "execution_count": null,
   "id": "72685bd6",
   "metadata": {},
   "outputs": [],
   "source": []
  }
 ],
 "metadata": {
  "kernelspec": {
   "display_name": "Python 3 (ipykernel)",
   "language": "python",
   "name": "python3"
  },
  "language_info": {
   "codemirror_mode": {
    "name": "ipython",
    "version": 3
   },
   "file_extension": ".py",
   "mimetype": "text/x-python",
   "name": "python",
   "nbconvert_exporter": "python",
   "pygments_lexer": "ipython3",
   "version": "3.9.7"
  }
 },
 "nbformat": 4,
 "nbformat_minor": 5
}
