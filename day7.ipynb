{
 "cells": [
  {
   "cell_type": "code",
   "execution_count": 1,
   "id": "80ac805c",
   "metadata": {},
   "outputs": [],
   "source": [
    "import os\n",
    "import aocd\n",
    "from aocd.models import Puzzle\n",
    "from aocd import submit"
   ]
  },
  {
   "cell_type": "code",
   "execution_count": 2,
   "id": "ca698f8a",
   "metadata": {},
   "outputs": [
    {
     "data": {
      "text/plain": [
       "<Puzzle(2020, 7) at 0x7fe94791f940 - Handy Haversacks>"
      ]
     },
     "execution_count": 2,
     "metadata": {},
     "output_type": "execute_result"
    }
   ],
   "source": [
    "current_day = 7\n",
    "current_year = 2020\n",
    "\n",
    "puzzle = Puzzle(year=current_year, day=current_day)\n",
    "\n",
    "puzzle"
   ]
  },
  {
   "cell_type": "code",
   "execution_count": 3,
   "id": "556ad1df",
   "metadata": {
    "scrolled": false
   },
   "outputs": [],
   "source": [
    "data = puzzle.input_data.splitlines()\n"
   ]
  },
  {
   "cell_type": "markdown",
   "id": "a4447e93",
   "metadata": {},
   "source": [
    "# Part 1"
   ]
  },
  {
   "cell_type": "code",
   "execution_count": 4,
   "id": "eedca3a0",
   "metadata": {},
   "outputs": [],
   "source": [
    "# get all the rules\n",
    "rules = dict()\n",
    "for datum in data:\n",
    "    outer_bag, inner_bags = datum.split(' contain ')\n",
    "    key = ' '.join(outer_bag.split()[:2])\n",
    "    if inner_bags.startswith('no'):\n",
    "        rules[key] = None\n",
    "    else:\n",
    "        rules[key] = [' '.join(x.strip().split()[1:3]) for x in inner_bags.replace('.','').split(',')]"
   ]
  },
  {
   "cell_type": "code",
   "execution_count": 5,
   "id": "df74fc34",
   "metadata": {},
   "outputs": [],
   "source": [
    "from functools import cache\n",
    "\n",
    "@cache\n",
    "def can_contain_shiny_gold(bag_color):\n",
    "    contains = rules.get(bag_color,None)\n",
    "    if contains is None:\n",
    "        return False\n",
    "    elif 'shiny gold' in contains:\n",
    "        return True\n",
    "    else:\n",
    "        return any(map(can_contain_shiny_gold,contains))\n",
    "        "
   ]
  },
  {
   "cell_type": "code",
   "execution_count": 6,
   "id": "6263352a",
   "metadata": {},
   "outputs": [
    {
     "data": {
      "text/plain": [
       "213"
      ]
     },
     "execution_count": 6,
     "metadata": {},
     "output_type": "execute_result"
    }
   ],
   "source": [
    "result = sum(can_contain_shiny_gold(key) for key in rules)\n",
    "result"
   ]
  },
  {
   "cell_type": "code",
   "execution_count": 7,
   "id": "eb7cbe1c",
   "metadata": {},
   "outputs": [],
   "source": [
    "puzzle.answer_a = result"
   ]
  },
  {
   "cell_type": "markdown",
   "id": "2628ea09",
   "metadata": {},
   "source": [
    "# Part 2"
   ]
  },
  {
   "cell_type": "code",
   "execution_count": 8,
   "id": "9bd02da3",
   "metadata": {},
   "outputs": [],
   "source": [
    "# get all the rules, with bag counts\n",
    "rules = dict()\n",
    "for datum in data:\n",
    "    outer_bag, inner_bags = datum.split(' contain ')\n",
    "    key = ' '.join(outer_bag.split()[:2])\n",
    "    if inner_bags.startswith('no'):\n",
    "        rules[key] = None\n",
    "    else:\n",
    "        rules[key] = [(' '.join(x.strip().split()[1:3]), int(x.strip().split()[0])) for x in inner_bags.replace('.','').split(',')]"
   ]
  },
  {
   "cell_type": "code",
   "execution_count": 9,
   "id": "e92bf954",
   "metadata": {},
   "outputs": [],
   "source": [
    "@cache\n",
    "def how_many_bags_inside(bag_color):\n",
    "    contains = rules.get(bag_color,None)\n",
    "    if contains:\n",
    "        return sum((how_many_bags_inside(contain[0])+1)*contain[1] for contain in contains)\n",
    "    return 0\n",
    "\n"
   ]
  },
  {
   "cell_type": "code",
   "execution_count": 10,
   "id": "366e729b",
   "metadata": {},
   "outputs": [
    {
     "data": {
      "text/plain": [
       "38426"
      ]
     },
     "execution_count": 10,
     "metadata": {},
     "output_type": "execute_result"
    }
   ],
   "source": [
    "result = how_many_bags_inside('shiny gold')\n",
    "result"
   ]
  },
  {
   "cell_type": "code",
   "execution_count": 11,
   "id": "1b242738",
   "metadata": {},
   "outputs": [
    {
     "name": "stdout",
     "output_type": "stream",
     "text": [
      "\u001b[32mThat's the right answer!  You are one gold star closer to saving your vacation.You have completed Day 7! You can [Shareon\n",
      "  Twitter\n",
      "Mastodon] this victory or [Return to Your Advent Calendar].\u001b[0m\n"
     ]
    }
   ],
   "source": [
    "puzzle.answer_b = result"
   ]
  }
 ],
 "metadata": {
  "kernelspec": {
   "display_name": "Python 3 (ipykernel)",
   "language": "python",
   "name": "python3"
  },
  "language_info": {
   "codemirror_mode": {
    "name": "ipython",
    "version": 3
   },
   "file_extension": ".py",
   "mimetype": "text/x-python",
   "name": "python",
   "nbconvert_exporter": "python",
   "pygments_lexer": "ipython3",
   "version": "3.9.7"
  }
 },
 "nbformat": 4,
 "nbformat_minor": 5
}
